{
 "cells": [
  {
   "cell_type": "code",
   "execution_count": 4,
   "metadata": {},
   "outputs": [
    {
     "name": "stdout",
     "output_type": "stream",
     "text": [
      "[ 0  1  2  3  4  5  6  7  8  9 10 11]\n",
      "[[-1.79576809 -0.42535863 -0.01538742]\n",
      " [-1.47819749 -0.69465131 -0.76994097]]\n"
     ]
    }
   ],
   "source": [
    "import numpy as np\n",
    "\n",
    "a = np.arange(12)\n",
    "print (a)\n",
    "x = np.random.randn(2,3)\n",
    "print (x)"
   ]
  },
  {
   "cell_type": "code",
   "execution_count": 5,
   "metadata": {},
   "outputs": [
    {
     "name": "stdout",
     "output_type": "stream",
     "text": [
      "[[3.40594976 2.96182321]\n",
      " [2.96182321 3.26041738]]\n"
     ]
    }
   ],
   "source": [
    "# 矩阵相乘\n",
    "print (np.dot(x, x.T))"
   ]
  },
  {
   "cell_type": "code",
   "execution_count": 6,
   "metadata": {},
   "outputs": [
    {
     "name": "stdout",
     "output_type": "stream",
     "text": [
      "[  0   1   4   9  16  25  36  49  64  81 100 121]\n"
     ]
    }
   ],
   "source": [
    "# 对应元素相乘\n",
    "print (np.multiply(a,a))"
   ]
  },
  {
   "cell_type": "code",
   "execution_count": 40,
   "metadata": {},
   "outputs": [
    {
     "name": "stdout",
     "output_type": "stream",
     "text": [
      "[[[[ 0  1]]\n",
      "\n",
      "  [[ 2  3]]\n",
      "\n",
      "  [[ 4  5]]]\n",
      "\n",
      "\n",
      " [[[ 6  7]]\n",
      "\n",
      "  [[ 8  9]]\n",
      "\n",
      "  [[10 11]]]]\n",
      "[[ 0  1  2  3]\n",
      " [ 4  5  6  7]\n",
      " [ 8  9 10 11]]\n",
      "[[ 0]\n",
      " [ 1]\n",
      " [ 2]\n",
      " [ 3]\n",
      " [ 4]\n",
      " [ 5]\n",
      " [ 6]\n",
      " [ 7]\n",
      " [ 8]\n",
      " [ 9]\n",
      " [10]\n",
      " [11]]\n",
      "[[ 0  1  2  3  4  5]\n",
      " [ 6  7  8  9 10 11]]\n"
     ]
    }
   ],
   "source": [
    "# reshape，用于图片转向量，或者把(5,)转(5,1)\n",
    "# （1,2） 表示 [[0,1]]\n",
    "# （3,1,2） 表示三个（1，2）, [[[0,1]],\n",
    "#                           [[2,3]],\n",
    "#                           [[4,5]]],\n",
    "# (2,3,1,2) 表示两个(3,1,2)\n",
    "a = np.arange(12)\n",
    "print (a.reshape(2,3,1,2))\n",
    "\n",
    "# 把维度(a,b,c,d)的矩阵铺成(b*c*d,a)的矩阵\n",
    "b = a.reshape((3,4))\n",
    "print (b)\n",
    "# 不知道行数，列数为1\n",
    "print (b.reshape(-1,1))\n",
    "# 不知道列数，行数为2\n",
    "print (b.reshape(2,-1))"
   ]
  },
  {
   "cell_type": "code",
   "execution_count": 10,
   "metadata": {},
   "outputs": [
    {
     "name": "stdout",
     "output_type": "stream",
     "text": [
      "[[1 2 1 2]\n",
      " [3 4 3 4]]\n",
      "[[1 2]\n",
      " [3 4]\n",
      " [1 2]\n",
      " [3 4]]\n"
     ]
    }
   ],
   "source": [
    "# tile 沿x，y轴复制\n",
    "b = np.array([[1,2],[3,4]])\n",
    "#沿x轴复制2倍\n",
    "print (np.tile(b, 2))\n",
    "#沿y轴复制两倍\n",
    "print (np.tile(b, (2,1)))\n"
   ]
  },
  {
   "cell_type": "code",
   "execution_count": 12,
   "metadata": {},
   "outputs": [
    {
     "name": "stdout",
     "output_type": "stream",
     "text": [
      "19\n",
      "[3 8 8]\n",
      "[ 3 14  2]\n"
     ]
    }
   ],
   "source": [
    "# 求和,均值mean同解\n",
    "c = np.array([[0,2,1],[3,5,6],[0,1,1]])\n",
    "# 全部求和\n",
    "print (c.sum())\n",
    "# 每一列运算\n",
    "print (c.sum(axis=0))\n",
    "# 每一行运算\n",
    "print (c.sum(axis=1))"
   ]
  },
  {
   "cell_type": "code",
   "execution_count": 16,
   "metadata": {},
   "outputs": [
    {
     "name": "stdout",
     "output_type": "stream",
     "text": [
      "[1 2 0]\n",
      "[0 2 1]\n",
      "[1 2 3]\n"
     ]
    }
   ],
   "source": [
    "# 索引值升序\n",
    "x = np.array([3,1,2])\n",
    "print (x.argsort())\n",
    "# 降序\n",
    "print (np.argsort(-x))\n",
    "# 值排序\n",
    "print (x[np.argsort(x)])"
   ]
  },
  {
   "cell_type": "code",
   "execution_count": 18,
   "metadata": {},
   "outputs": [
    {
     "name": "stdout",
     "output_type": "stream",
     "text": [
      "[[0. 0. 0.]\n",
      " [0. 0. 0.]\n",
      " [0. 0. 0.]]\n"
     ]
    }
   ],
   "source": [
    "# 初始化array\n",
    "print (np.zeros((3,3)))"
   ]
  },
  {
   "cell_type": "code",
   "execution_count": 21,
   "metadata": {},
   "outputs": [
    {
     "name": "stdout",
     "output_type": "stream",
     "text": [
      "[0 1 1]\n",
      "[0 3 0]\n"
     ]
    }
   ],
   "source": [
    "# 极值\n",
    "c = np.array([[0,2,1],[3,5,6],[0,1,1]])\n",
    "# 每一列最小值\n",
    "print (c.min(0))\n",
    "# 每一行最小值\n",
    "print (c.min(1))"
   ]
  },
  {
   "cell_type": "code",
   "execution_count": 22,
   "metadata": {},
   "outputs": [
    {
     "name": "stdout",
     "output_type": "stream",
     "text": [
      "2\n",
      "2\n"
     ]
    }
   ],
   "source": [
    "# 取值\n",
    "c = np.array([[0,2,1],[3,5,6],[0,1,1]])\n",
    "print (c[0][1])\n",
    "print (c[0,1])"
   ]
  },
  {
   "cell_type": "code",
   "execution_count": 23,
   "metadata": {},
   "outputs": [
    {
     "name": "stdout",
     "output_type": "stream",
     "text": [
      "[3 5 7]\n"
     ]
    }
   ],
   "source": [
    "# 生成数组\n",
    "print (np.arange(3,9,2))"
   ]
  },
  {
   "cell_type": "code",
   "execution_count": 33,
   "metadata": {},
   "outputs": [
    {
     "name": "stdout",
     "output_type": "stream",
     "text": [
      "[[0 0 3]\n",
      " [0 0 0]\n",
      " [0 0 9]]\n",
      "(array([0, 2]), array([2, 2]))\n",
      "(array([0, 1, 2, 4, 5]),)\n",
      "[[1. 0. 0. 0.]\n",
      " [0. 1. 0. 0.]\n",
      " [0. 0. 1. 0.]\n",
      " [0. 0. 0. 1.]]\n",
      "(array([0, 2, 3]), array([0, 0, 0]))\n"
     ]
    }
   ],
   "source": [
    "# 非零元素索引值\n",
    "a = np.array([[0,0,3],[0,0,0],[0,0,9]])\n",
    "print (a)\n",
    "# array([0,2]): 第0，2行有非零元素\n",
    "# array([2,2]): 第2，2列有非零元素\n",
    "print (np.nonzero(a))\n",
    "\n",
    "# (...,) 逗号后面没有的原因是b是一个秩为1的数组, 少一个[]\n",
    "b = np.array([1,2,3,0,4,5,0])\n",
    "print (np.nonzero(b))\n",
    "\n",
    "c = np.mat(np.eye(4))\n",
    "print (c)\n",
    "print (np.nonzero(c[:,1]<0.5))"
   ]
  },
  {
   "cell_type": "code",
   "execution_count": 35,
   "metadata": {},
   "outputs": [
    {
     "name": "stdout",
     "output_type": "stream",
     "text": [
      "[[0 0 3]\n",
      " [0 0 0]\n",
      " [0 0 9]]\n",
      "[[0, 0, 3], [0, 0, 0], [0, 0, 9]]\n"
     ]
    }
   ],
   "source": [
    "# 数组转列表\n",
    "a = np.array([[0,0,3],[0,0,0],[0,0,9]])\n",
    "print (a)\n",
    "print (a.tolist())"
   ]
  },
  {
   "cell_type": "code",
   "execution_count": null,
   "metadata": {},
   "outputs": [],
   "source": []
  }
 ],
 "metadata": {
  "kernelspec": {
   "display_name": "Python 3",
   "language": "python",
   "name": "python3"
  },
  "language_info": {
   "codemirror_mode": {
    "name": "ipython",
    "version": 3
   },
   "file_extension": ".py",
   "mimetype": "text/x-python",
   "name": "python",
   "nbconvert_exporter": "python",
   "pygments_lexer": "ipython3",
   "version": "3.7.2"
  }
 },
 "nbformat": 4,
 "nbformat_minor": 2
}
